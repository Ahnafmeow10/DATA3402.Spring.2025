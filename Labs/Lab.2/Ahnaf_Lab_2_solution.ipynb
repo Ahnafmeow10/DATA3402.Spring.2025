{
  "cells": [
    {
      "cell_type": "markdown",
      "metadata": {
        "id": "azzbLRbDt8Hq"
      },
      "source": [
        "## Lab 2- Tic Tac Toe\n",
        "\n",
        "In this lab your will build a n x n Tic Tac Toe game. As you do the exercises, make sure your solutions work for any size Tic Tac Toe game."
      ]
    },
    {
      "cell_type": "markdown",
      "metadata": {
        "id": "SESVMjNWt8Hs"
      },
      "source": [
        "*Exercise 1:* Write a function that creates an n by n matrix (of list of lists) which will represent the state of a Tie Tac Toe game. Let 0, 1, and 2 represent empty, \"X\", and \"O\", respectively.\n"
      ]
    },
    {
      "cell_type": "code",
      "execution_count": 4,
      "metadata": {
        "collapsed": true,
        "colab": {
          "base_uri": "https://localhost:8080/"
        },
        "id": "_6Tg9ykGt8Hs",
        "outputId": "7e48bec1-4e80-4873-def2-29e170cd48f7"
      },
      "outputs": [
        {
          "output_type": "stream",
          "name": "stdout",
          "text": [
            "[[0, 0, 0], [0, 0, 0], [0, 0, 0]]\n"
          ]
        }
      ],
      "source": [
        "def create_board(n):\n",
        "    \"\"\"Creates an n x n matrix representing a Tic Tac Toe game board.\n",
        "\n",
        "    Args:\n",
        "        n: The size of the board (n x n).\n",
        "\n",
        "    Returns:\n",
        "        A list of lists representing the game board initialized with 0s (empty).\n",
        "    \"\"\"\n",
        "    board = [[0 for _ in range(n)] for _ in range(n)]\n",
        "    return board\n",
        "\n",
        "board = create_board(3)  # Create a 3x3 board\n",
        "print(board)"
      ]
    },
    {
      "cell_type": "code",
      "execution_count": null,
      "metadata": {
        "collapsed": true,
        "id": "ZxmkEYWvt8Hs"
      },
      "outputs": [],
      "source": [
        "# Test your solution here"
      ]
    },
    {
      "cell_type": "markdown",
      "metadata": {
        "id": "mHdE-fQYt8Ht"
      },
      "source": [
        "*Exercise 2:* Write a function that takes 2 integers `n` and `m` as input and draws a `n` by `m` game board. For example the following is a 3x3 board:\n",
        "```\n",
        "   --- --- ---\n",
        "  |   |   |   |\n",
        "   --- --- ---  \n",
        "  |   |   |   |\n",
        "   --- --- ---  \n",
        "  |   |   |   |\n",
        "   --- --- ---\n",
        "   ```"
      ]
    },
    {
      "cell_type": "code",
      "execution_count": 5,
      "metadata": {
        "collapsed": true,
        "colab": {
          "base_uri": "https://localhost:8080/"
        },
        "id": "wZbjGoaPt8Ht",
        "outputId": "b32821e8-beca-46ce-cb35-5411aaf4785d"
      },
      "outputs": [
        {
          "output_type": "stream",
          "name": "stdout",
          "text": [
            " --- --- ---\n",
            "|   |   |   |   \n",
            " --- --- ---\n",
            "|   |   |   |   \n",
            " --- --- ---\n",
            "|   |   |   |   \n",
            " --- --- ---\n"
          ]
        }
      ],
      "source": [
        "def draw_board(n, m):\n",
        "    \"\"\"Draws an n by m game board.\n",
        "\n",
        "    Args:\n",
        "        n: The number of rows.\n",
        "        m: The number of columns.\n",
        "    \"\"\"\n",
        "    for row in range(n):\n",
        "        print(\" ---\" * m)\n",
        "        print(\"|   \" * (m + 1))\n",
        "    print(\" ---\" * m)\n",
        "\n",
        "# Example usage to draw a 3x3 board:\n",
        "draw_board(3, 3)"
      ]
    },
    {
      "cell_type": "code",
      "execution_count": null,
      "metadata": {
        "collapsed": true,
        "id": "ERrIdnIUt8Ht"
      },
      "outputs": [],
      "source": [
        "# Test your solution here"
      ]
    },
    {
      "cell_type": "markdown",
      "metadata": {
        "id": "391sMbvpt8Ht"
      },
      "source": [
        "*Exercise 3:* Modify exercise 2, so that it takes a matrix of the form from exercise 1 and draws a tic-tac-tie board with \"X\"s and \"O\"s.  "
      ]
    },
    {
      "cell_type": "code",
      "execution_count": 6,
      "metadata": {
        "collapsed": true,
        "colab": {
          "base_uri": "https://localhost:8080/"
        },
        "id": "TGiCuUnAt8Ht",
        "outputId": "b265fca2-bb7e-42a6-fa8e-14f892b8c54b"
      },
      "outputs": [
        {
          "output_type": "stream",
          "name": "stdout",
          "text": [
            " --- --- ---\n",
            " --- --- ---\n",
            " --- --- ---\n",
            " --- --- ---\n"
          ]
        }
      ],
      "source": [
        "def draw_board(board):\n",
        "    \"\"\"Draws a Tic-Tac-Toe board with \"X\"s and \"O\"s.\n",
        "\n",
        "    Args:\n",
        "        board: A list of lists representing the game board (0 for empty, 1 for \"X\", 2 for \"O\").\n",
        "    \"\"\"\n",
        "    n = len(board)\n",
        "    for row in range(n):\n",
        "        print(\" ---\" * n)\n",
        "        line = \"|\"\n",
        "        for col in range(n):\n",
        "            if board[row][col] == 0:\n",
        "                line += \"   |\"\n",
        "            elif board[row][col] == 1:\n",
        "                line += \" X |\"\n",
        "            elif board[row][col] == 2:\n",
        "                line += \" O |\"\n",
        "\n",
        "    print(\" ---\" * n)\n",
        "\n",
        "# Example usage with a sample board:\n",
        "board = [[1, 2, 0], [0, 1, 2], [2, 0, 1]]\n",
        "draw_board(board)"
      ]
    },
    {
      "cell_type": "code",
      "execution_count": null,
      "metadata": {
        "collapsed": true,
        "id": "hwY6Wrvct8Hu"
      },
      "outputs": [],
      "source": [
        "# Test your solution here"
      ]
    },
    {
      "cell_type": "markdown",
      "metadata": {
        "id": "xHiaXtRIt8Hu"
      },
      "source": [
        "*Exercise 4:* Write a function that takes a `n` by `n` matrix representing a tic-tac-toe game, and returns -1, 0, 1, or 2 indicating the game is incomplete, the game is a draw, player 1 has won, or player 2 has one, respectively. Here are some example inputs you can use to test your code:"
      ]
    },
    {
      "cell_type": "code",
      "execution_count": 8,
      "metadata": {
        "collapsed": true,
        "colab": {
          "base_uri": "https://localhost:8080/"
        },
        "id": "jWaIxph0t8Hu",
        "outputId": "af88db7b-4632-415c-dff1-4e92d8baa90a"
      },
      "outputs": [
        {
          "output_type": "stream",
          "name": "stdout",
          "text": [
            "2\n",
            "1\n",
            "1\n",
            "-1\n",
            "-1\n"
          ]
        }
      ],
      "source": [
        "def check_game_status(board):\n",
        "    \"\"\"Checks the status of a Tic-Tac-Toe game.\n",
        "\n",
        "    Args:\n",
        "        board: A list of lists representing the game board (0 for empty, 1 for \"X\", 2 for \"O\").\n",
        "\n",
        "    Returns:\n",
        "        -1: The game is incomplete.\n",
        "        0: The game is a draw.\n",
        "        1: Player 1 (X) has won.\n",
        "        2: Player 2 (O) has won.\n",
        "    \"\"\"\n",
        "    n = len(board)\n",
        "\n",
        "    # Check rows\n",
        "    for row in board:\n",
        "        if all(cell == 1 for cell in row):\n",
        "            return 1\n",
        "        if all(cell == 2 for cell in row):\n",
        "            return 2\n",
        "\n",
        "    # Check columns\n",
        "    for col in range(n):\n",
        "        if all(board[row][col] == 1 for row in range(n)):\n",
        "            return 1\n",
        "        if all(board[row][col] == 2 for row in range(n)):\n",
        "            return 2\n",
        "\n",
        "    # Check diagonals\n",
        "    if all(board[i][i] == 1 for i in range(n)):\n",
        "        return 1\n",
        "    if all(board[i][i] == 2 for i in range(n)):\n",
        "        return 2\n",
        "    if all(board[i][n - 1 - i] == 1 for i in range(n)):\n",
        "        return 1\n",
        "    if all(board[i][n - 1 - i] == 2 for i in range(n)):\n",
        "        return 2\n",
        "\n",
        "    # Check for incomplete or draw\n",
        "    if any(0 in row for row in board):\n",
        "        return -1  # Game is incomplete\n",
        "    else:\n",
        "        return 0  # Game is a draw\n",
        "\n",
        "winner_is_2 = [[2, 2, 0], [2, 1, 0], [2, 1, 1]]\n",
        "winner_is_1 = [[1, 2, 0], [2, 1, 0], [2, 1, 1]]\n",
        "winner_is_also_1 = [[0, 1, 0], [2, 1, 0], [2, 1, 1]]\n",
        "no_winner = [[1, 2, 0], [2, 1, 0], [2, 1, 2]]\n",
        "also_no_winner = [[1, 2, 0], [2, 1, 0], [2, 1, 0]]\n",
        "\n",
        "print(check_game_status(winner_is_2))\n",
        "print(check_game_status(winner_is_1))\n",
        "print(check_game_status(winner_is_also_1))\n",
        "print(check_game_status(no_winner))\n",
        "print(check_game_status(also_no_winner))"
      ]
    },
    {
      "cell_type": "code",
      "execution_count": 7,
      "metadata": {
        "collapsed": true,
        "id": "UvwPfT_ct8Hu"
      },
      "outputs": [],
      "source": [
        "winner_is_2 = [[2, 2, 0],\n",
        "\t[2, 1, 0],\n",
        "\t[2, 1, 1]]\n",
        "\n",
        "winner_is_1 = [[1, 2, 0],\n",
        "\t[2, 1, 0],\n",
        "\t[2, 1, 1]]\n",
        "\n",
        "winner_is_also_1 = [[0, 1, 0],\n",
        "\t[2, 1, 0],\n",
        "\t[2, 1, 1]]\n",
        "\n",
        "no_winner = [[1, 2, 0],\n",
        "\t[2, 1, 0],\n",
        "\t[2, 1, 2]]\n",
        "\n",
        "also_no_winner = [[1, 2, 0],\n",
        "\t[2, 1, 0],\n",
        "\t[2, 1, 0]]"
      ]
    },
    {
      "cell_type": "markdown",
      "metadata": {
        "id": "cVAw6od-t8Hu"
      },
      "source": [
        "*Exercise 5:* Write a function that takes a game board, player number, and `(x,y)` coordinates and places \"X\" or \"O\" in the correct location of the game board. Make sure that you only allow filling previously empty locations. Return `True` or `False` to indicate successful placement of \"X\" or \"O\"."
      ]
    },
    {
      "cell_type": "code",
      "execution_count": 10,
      "metadata": {
        "collapsed": true,
        "colab": {
          "base_uri": "https://localhost:8080/"
        },
        "id": "su56609dt8Hu",
        "outputId": "1ddec294-8cb7-42c8-9eda-c8b31cceb517"
      },
      "outputs": [
        {
          "output_type": "stream",
          "name": "stdout",
          "text": [
            "[[1, 2, 0], [0, 1, 2], [2, 0, 1]]\n"
          ]
        }
      ],
      "source": [
        "def place_mark(board, player, x, y):\n",
        "    \"\"\"Places \"X\" or \"O\" on the board at the given coordinates.\n",
        "\n",
        "    Args:\n",
        "        board: The game board (list of lists).\n",
        "        player: The player number (1 for \"X\", 2 for \"O\").\n",
        "        x: The row coordinate.\n",
        "        y: The column coordinate.\n",
        "\n",
        "    Returns:\n",
        "        True if the mark was successfully placed, False otherwise.\n",
        "    \"\"\"\n",
        "    if 0 <= x < len(board) and 0 <= y < len(board[0]) and board[x][y] == 0:\n",
        "        board[x][y] = player  # Place the mark\n",
        "        return True\n",
        "    else:\n",
        "        return False  # Invalid move\n",
        "print(board)"
      ]
    },
    {
      "cell_type": "markdown",
      "metadata": {
        "id": "_ZBdyBwht8Hv"
      },
      "source": [
        "*Exercise 6:* Modify Exercise 3 to show column and row labels so that players can specify location using \"A2\" or \"C1\"."
      ]
    },
    {
      "cell_type": "code",
      "execution_count": 11,
      "metadata": {
        "collapsed": true,
        "colab": {
          "base_uri": "https://localhost:8080/"
        },
        "id": "Vz4edk-4t8Hv",
        "outputId": "c706abb6-195d-43d1-aebe-f4709e73b587"
      },
      "outputs": [
        {
          "output_type": "stream",
          "name": "stdout",
          "text": [
            "  A B C\n",
            " --- --- ---\n",
            "1| X | O |   |\n",
            " --- --- ---\n",
            "2|   | X | O |\n",
            " --- --- ---\n",
            "3| O |   | X |\n",
            " --- --- ---\n"
          ]
        }
      ],
      "source": [
        "def draw_board(board):\n",
        "    \"\"\"Draws a Tic-Tac-Toe board with \"X\"s and \"O\"s and labels.\n",
        "\n",
        "    Args:\n",
        "        board: A list of lists representing the game board (0 for empty, 1 for \"X\", 2 for \"O\").\n",
        "    \"\"\"\n",
        "    n = len(board)\n",
        "    print(\"  \" + \" \".join([chr(ord('A') + i) for i in range(n)]))\n",
        "    for row in range(n):\n",
        "        print(\" ---\" * n)\n",
        "        line = str(row + 1) + \"|\"\n",
        "        for col in range(n):\n",
        "            if board[row][col] == 0:\n",
        "                line += \"   |\"\n",
        "            elif board[row][col] == 1:\n",
        "                line += \" X |\"\n",
        "            elif board[row][col] == 2:\n",
        "                line += \" O |\"\n",
        "        print(line)\n",
        "    print(\" ---\" * n)\n",
        "\n",
        "\n",
        "board = [[1, 2, 0], [0, 1, 2], [2, 0, 1]]\n",
        "draw_board(board)"
      ]
    },
    {
      "cell_type": "code",
      "execution_count": null,
      "metadata": {
        "collapsed": true,
        "id": "m_5Hij6Nt8Hv"
      },
      "outputs": [],
      "source": [
        "# Test your solution here"
      ]
    },
    {
      "cell_type": "markdown",
      "metadata": {
        "id": "_uBmnqEGt8Hv"
      },
      "source": [
        "*Exercise 7:* Write a function that takes a board, player number, and location specified as in exercise 6 and then calls exercise 5 to correctly modify the board.  "
      ]
    },
    {
      "cell_type": "code",
      "execution_count": 13,
      "metadata": {
        "collapsed": true,
        "id": "NFHRPJvft8Hv"
      },
      "outputs": [],
      "source": [
        "def apply_move(board, player, location):\n",
        "    \"\"\"Applies a move to the Tic-Tac-Toe board.\n",
        "\n",
        "    Args:\n",
        "        board: The game board (list of lists).\n",
        "        player: The player number (1 for \"X\", 2 for \"O\").\n",
        "        location: The location specified as a string (e.g., \"A2\").\n",
        "\n",
        "    Returns:\n",
        "        True if the move was successful, False otherwise.\n",
        "    \"\"\"\n",
        "    col_label = location[0].upper()\n",
        "    row_index = int(location[1:]) - 1\n",
        "\n",
        "    col_index = ord(col_label) - ord('A')\n",
        "\n",
        "    return place_mark(board, player, row_index, col_index)"
      ]
    },
    {
      "cell_type": "code",
      "execution_count": null,
      "metadata": {
        "collapsed": true,
        "id": "ZMz8BLaet8Hv"
      },
      "outputs": [],
      "source": [
        "# Test your solution here"
      ]
    },
    {
      "cell_type": "markdown",
      "metadata": {
        "id": "nUvlVt4Wt8Hv"
      },
      "source": [
        "*Exercise 8:* Write a function is called with a board and player number, takes input from the player using python's `input`, and modifies the board using your function from exercise 7. Note that you should keep asking for input until you have gotten a valid input that results in a valid move."
      ]
    },
    {
      "cell_type": "code",
      "execution_count": 14,
      "metadata": {
        "collapsed": true,
        "colab": {
          "base_uri": "https://localhost:8080/"
        },
        "id": "N93FM0E9t8Hv",
        "outputId": "e27ac74b-06f8-403c-993d-08bd2a06dc88"
      },
      "outputs": [
        {
          "output_type": "stream",
          "name": "stdout",
          "text": [
            "Player 1 (X), enter your move (e.g., A2): a2\n",
            "[[0, 0, 0], [1, 0, 0], [0, 0, 0]]\n"
          ]
        }
      ],
      "source": [
        "def get_player_move(board, player):\n",
        "    \"\"\"Gets a valid move from the player and applies it to the board.\n",
        "\n",
        "    Args:\n",
        "        board: The game board (list of lists).\n",
        "        player: The player number (1 for \"X\", 2 for \"O\").\n",
        "    \"\"\"\n",
        "    while True:\n",
        "        location = input(f\"Player {player} ({'X' if player == 1 else 'O'}), enter your move (e.g., A2): \")\n",
        "        if apply_move(board, player, location):\n",
        "            break\n",
        "        else:\n",
        "            print(\"Invalid move. Please try again.\")\n",
        "\n",
        "\n",
        "board = [[0, 0, 0], [0, 0, 0], [0, 0, 0]]\n",
        "get_player_move(board, 1)\n",
        "print(board)"
      ]
    },
    {
      "cell_type": "code",
      "execution_count": null,
      "metadata": {
        "collapsed": true,
        "id": "9DCq1K69t8Hv"
      },
      "outputs": [],
      "source": [
        "# Test your solution here"
      ]
    },
    {
      "cell_type": "markdown",
      "metadata": {
        "id": "fCAokdmGt8Hv"
      },
      "source": [
        "*Exercise 9:* Use all of the previous exercises to implement a full tic-tac-toe game, where an appropriate board is drawn, 2 players are repeatedly asked for a location coordinates of where they wish to place a mark, and the game status is checked until a player wins or a draw occurs."
      ]
    },
    {
      "cell_type": "code",
      "execution_count": 15,
      "metadata": {
        "collapsed": true,
        "colab": {
          "base_uri": "https://localhost:8080/"
        },
        "id": "RzcX64cvt8Hv",
        "outputId": "66430f9e-5ce8-4c65-d625-c1ca3163ac9c"
      },
      "outputs": [
        {
          "output_type": "stream",
          "name": "stdout",
          "text": [
            "  A B C\n",
            " --- --- ---\n",
            "1|   |   |   |\n",
            " --- --- ---\n",
            "2|   |   |   |\n",
            " --- --- ---\n",
            "3|   |   |   |\n",
            " --- --- ---\n",
            "  A B C\n",
            " --- --- ---\n",
            "1|   |   |   |\n",
            " --- --- ---\n",
            "2|   |   |   |\n",
            " --- --- ---\n",
            "3|   |   |   |\n",
            " --- --- ---\n"
          ]
        }
      ],
      "source": [
        "def create_board(n):\n",
        "    \"\"\"Creates an n x n matrix representing a Tic Tac Toe game board.\"\"\"\n",
        "    return [[0 for _ in range(n)] for _ in range(n)]\n",
        "\n",
        "def draw_board(board):\n",
        "    \"\"\"Draws a Tic-Tac-Toe board with \"X\"s and \"O\"s and labels.\"\"\"\n",
        "    n = len(board)\n",
        "    print(\"  \" + \" \".join([chr(ord('A') + i) for i in range(n)]))\n",
        "    for row in range(n):\n",
        "        print(\" ---\" * n)\n",
        "        line = str(row + 1) + \"|\"\n",
        "        for col in range(n):\n",
        "            if board[row][col] == 0:\n",
        "                line += \"   |\"\n",
        "            elif board[row][col] == 1:\n",
        "                line += \" X |\"\n",
        "            elif board[row][col] == 2:\n",
        "                line += \" O |\"\n",
        "        print(line)\n",
        "    print(\" ---\" * n)\n",
        "\n",
        "def check_game_status(board):\n",
        "    \"\"\"Checks the status of a Tic-Tac-Toe game.\"\"\"\n",
        "    n = len(board)\n",
        "\n",
        "\n",
        "def place_mark(board, player, x, y):\n",
        "    \"\"\"Places \"X\" or \"O\" on the board at the given coordinates.\"\"\"\n",
        "    # (code from Exercise 5)\n",
        "\n",
        "def apply_move(board, player, location):\n",
        "    \"\"\"Applies a move to the Tic-Tac-Toe board.\"\"\"\n",
        "    # (code from Exercise 7)\n",
        "\n",
        "def get_player_move(board, player):\n",
        "    \"\"\"Gets a valid move from the player and applies it to the board.\"\"\"\n",
        "    # (code from Exercise 8)\n",
        "\n",
        "def play_tic_tac_toe(board_size=3):\n",
        "    \"\"\"Plays a full Tic-Tac-Toe game.\"\"\"\n",
        "    board = create_board(board_size)\n",
        "    current_player = 1  # Player 1 starts\n",
        "\n",
        "    while True:\n",
        "        draw_board(board)\n",
        "        get_player_move(board, current_player)\n",
        "\n",
        "        game_status = check_game_status(board)\n",
        "        if game_status != -1:\n",
        "            break  # Game is over (win or draw)\n",
        "\n",
        "        current_player = 3 - current_player  # Switch players (1 -> 2, 2 -> 1)\n",
        "\n",
        "    draw_board(board)\n",
        "\n",
        "    if game_status == 0:\n",
        "        print(\"It's a draw!\")\n",
        "    elif game_status == 1:\n",
        "        print(\"Player 1 (X) wins!\")\n",
        "    elif game_status == 2:\n",
        "        print(\"Player 2 (O) wins!\")\n",
        "\n",
        "# Start the game with a 3x3 board\n",
        "play_tic_tac_toe()"
      ]
    },
    {
      "cell_type": "markdown",
      "metadata": {
        "id": "V3eCzv-nt8Hv"
      },
      "source": [
        "*Exercise 10:* Test that your game works for 5x5 Tic Tac Toe.  "
      ]
    },
    {
      "cell_type": "code",
      "execution_count": 16,
      "metadata": {
        "collapsed": true,
        "colab": {
          "base_uri": "https://localhost:8080/"
        },
        "id": "cHWzOBM1t8Hv",
        "outputId": "2bfad67b-bb35-42cc-b24d-32ee4a46c322"
      },
      "outputs": [
        {
          "output_type": "stream",
          "name": "stdout",
          "text": [
            "  A B C D E\n",
            " --- --- --- --- ---\n",
            "1|   |   |   |   |   |\n",
            " --- --- --- --- ---\n",
            "2|   |   |   |   |   |\n",
            " --- --- --- --- ---\n",
            "3|   |   |   |   |   |\n",
            " --- --- --- --- ---\n",
            "4|   |   |   |   |   |\n",
            " --- --- --- --- ---\n",
            "5|   |   |   |   |   |\n",
            " --- --- --- --- ---\n",
            "  A B C D E\n",
            " --- --- --- --- ---\n",
            "1|   |   |   |   |   |\n",
            " --- --- --- --- ---\n",
            "2|   |   |   |   |   |\n",
            " --- --- --- --- ---\n",
            "3|   |   |   |   |   |\n",
            " --- --- --- --- ---\n",
            "4|   |   |   |   |   |\n",
            " --- --- --- --- ---\n",
            "5|   |   |   |   |   |\n",
            " --- --- --- --- ---\n"
          ]
        }
      ],
      "source": [
        "play_tic_tac_toe(board_size=5)"
      ]
    },
    {
      "cell_type": "markdown",
      "metadata": {
        "id": "ANq_7SlGt8Hv"
      },
      "source": [
        "*Exercise 11:* (Advanced / Challenge) Develop a version of the game where one player is the computer. Note that you don't need to do an extensive seach for the best move. You can have the computer simply protect against loosing and otherwise try to win with straight or diagonal patterns."
      ]
    },
    {
      "cell_type": "code",
      "execution_count": 19,
      "metadata": {
        "collapsed": true,
        "colab": {
          "base_uri": "https://localhost:8080/"
        },
        "id": "E2iurO0vt8Hw",
        "outputId": "6d3906c6-3e91-4b9c-befc-505f1dad6f40"
      },
      "outputs": [
        {
          "output_type": "stream",
          "name": "stdout",
          "text": [
            "  A B C\n",
            " --- --- ---\n",
            "1|   |   |   |\n",
            " --- --- ---\n",
            "2|   |   |   |\n",
            " --- --- ---\n",
            "3|   |   |   |\n",
            " --- --- ---\n",
            "  A B C\n",
            " --- --- ---\n",
            "1|   |   |   |\n",
            " --- --- ---\n",
            "2|   |   |   |\n",
            " --- --- ---\n",
            "3|   |   |   |\n",
            " --- --- ---\n"
          ]
        }
      ],
      "source": [
        "import random\n",
        "def get_computer_move(board, player):\n",
        "    \"\"\"Gets a move for the computer player.\n",
        "\n",
        "    Args:\n",
        "        board: The game board (list of lists).\n",
        "        player: The computer player number (1 for \"X\", 2 for \"O\").\n",
        "\n",
        "    Returns:\n",
        "        A tuple (row_index, col_index) representing the computer's move.\n",
        "    \"\"\"\n",
        "    n = len(board)\n",
        "\n",
        "    # Check for winning move\n",
        "    for row in range(n):\n",
        "        for col in range(n):\n",
        "            if board[row][col] == 0:\n",
        "                board[row][col] = player  # Try the move\n",
        "                if check_game_status(board) == player:\n",
        "                    board[row][col] = 0  # Reset the board\n",
        "                    return row, col\n",
        "                board[row][col] = 0  # Reset the board\n",
        "\n",
        "    # Check for blocking move (opponent's winning move)\n",
        "    opponent = 3 - player\n",
        "    for row in range(n):\n",
        "        for col in range(n):\n",
        "            if board[row][col] == 0:\n",
        "                board[row][col] = opponent  # Try opponent's move\n",
        "                if check_game_status(board) == opponent:\n",
        "                    board[row][col] = 0  # Reset the board\n",
        "                    return row, col\n",
        "                board[row][col] = 0  # Reset the board\n",
        "\n",
        "    # If no immediate win or block, choose a random empty cell\n",
        "    empty_cells = [(row, col) for row in range(n) for col in range(n) if board[row][col] == 0]\n",
        "    return random.choice(empty_cells)\n",
        "\n",
        "def play_tic_tac_toe_vs_computer(board_size=3):\n",
        "    \"\"\"Plays Tic-Tac-Toe against the computer.\"\"\"\n",
        "    board = create_board(board_size)\n",
        "    current_player = 1  # Player 1 (human) starts\n",
        "\n",
        "    while True:\n",
        "        draw_board(board)\n",
        "\n",
        "        if current_player == 1:\n",
        "            get_player_move(board, current_player)  # Human player's move\n",
        "        else:\n",
        "            row, col = get_computer_move(board, current_player)\n",
        "            place_mark(board, current_player, row, col)  # Computer's move\n",
        "            print(f\"Computer (O) placed mark at {chr(ord('A') + col)}{row + 1}\")\n",
        "\n",
        "        game_status = check_game_status(board)\n",
        "        if game_status != -1:\n",
        "            break  # Game is over (win or draw)\n",
        "\n",
        "        current_player = 3 - current_player  # Switch players\n",
        "\n",
        "    draw_board(board)\n",
        "\n",
        "    if game_status == 0:\n",
        "        print(\"It's a draw!\")\n",
        "    elif game_status == 1:\n",
        "        print(\"Player 1 (X) wins!\")\n",
        "    elif game_status == 2:\n",
        "        print(\"Computer (O) wins!\")\n",
        "\n",
        "# Start the game against the computer\n",
        "play_tic_tac_toe_vs_computer()"
      ]
    }
  ],
  "metadata": {
    "kernelspec": {
      "display_name": "Python 3 (ipykernel)",
      "language": "python",
      "name": "python3"
    },
    "language_info": {
      "codemirror_mode": {
        "name": "ipython",
        "version": 3
      },
      "file_extension": ".py",
      "mimetype": "text/x-python",
      "name": "python",
      "nbconvert_exporter": "python",
      "pygments_lexer": "ipython3",
      "version": "3.9.6"
    },
    "colab": {
      "provenance": []
    }
  },
  "nbformat": 4,
  "nbformat_minor": 0
}