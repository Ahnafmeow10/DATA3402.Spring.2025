{
 "cells": [
  {
   "cell_type": "markdown",
   "metadata": {},
   "source": [
    "# Lab 5\n"
   ]
  },
  {
   "cell_type": "markdown",
   "metadata": {},
   "source": [
    "Matrix Representation: In this lab you will be creating a simple linear algebra system. In memory, we will represent matrices as nested python lists as we have done in lecture. In the exercises below, you are required to explicitly test every feature you implement, demonstrating it works.\n",
    "\n",
    "1. Create a `matrix` class with the following properties:\n",
    "    * It can be initialized in 2 ways:\n",
    "        1. with arguments `n` and `m`, the size of the matrix. A newly instanciated matrix will contain all zeros.\n",
    "        2. with a list of lists of values. Note that since we are using lists of lists to implement matrices, it is possible that not all rows have the same number of columns. Test explicitly that the matrix is properly specified.\n",
    "    * Matrix instances `M` can be indexed with `M[i][j]` and `M[i,j]`.\n",
    "    * Matrix assignment works in 2 ways:\n",
    "        1. If `M_1` and `M_2` are `matrix` instances `M_1=M_2` sets the values of `M_1` to those of `M_2`, if they are the same size. Error otherwise.\n",
    "        2. In example above `M_2` can be a list of lists of correct size.\n"
   ]
  },
  {
   "cell_type": "code",
   "execution_count": 40,
   "metadata": {},
   "outputs": [],
   "source": [
    "class Matrix:\n",
    "    def __init__(self, n, m=None):\n",
    "        if isinstance(n, list):\n",
    "            self.data = n\n",
    "            self.n = len(n)\n",
    "            self.m = len(n[0]) if n else 0\n",
    "            if not all(len(row) == self.m for row in n):\n",
    "                raise ValueError(\"All rows must have the same number of columns.\")\n",
    "        else:\n",
    "            self.n = n\n",
    "            self.m = m\n",
    "            self.data = [[0] * m for _ in range(n)]\n",
    "\n",
    "    def __getitem__(self, key):\n",
    "        if isinstance(key, tuple):\n",
    "            return self.data[key[0]][key[1]]\n",
    "        return self.data[key]\n",
    "\n",
    "    def __setitem__(self, key, value):\n",
    "        if isinstance(key, tuple):\n",
    "            self.data[key[0]][key[1]] = value\n",
    "        else:\n",
    "            self.data[key] = value\n",
    "\n",
    "    def shape(self):\n",
    "        return self.n, self.m\n",
    "\n",
    "    def transpose(self):\n",
    "        return Matrix([[self.data[j][i] for j in range(self.n)] for i in range(self.m)])\n",
    "\n",
    "    def row(self, n):\n",
    "        return Matrix([self.data[n]])\n",
    "\n",
    "    def column(self, n):\n",
    "        return Matrix([[self.data[i][n]] for i in range(self.n)])\n",
    "\n",
    "    def to_list(self):\n",
    "        return self.data\n",
    "\n",
    "    def block(self, n_0, n_1, m_0, m_1):\n",
    "        return Matrix([row[m_0:m_1] for row in self.data[n_0:n_1]])\n",
    "\n",
    "    def scalarmul(self, c):\n",
    "        return Matrix([[c * self.data[i][j] for j in range(self.m)] for i in range(self.n)])\n",
    "\n",
    "    def add(self, N):\n",
    "        if self.shape() != N.shape():\n",
    "            raise ValueError(\"Matrix dimensions must match for addition.\")\n",
    "        return Matrix([[self.data[i][j] + N.data[i][j] for j in range(self.m)] for i in range(self.n)])\n",
    "\n",
    "    def sub(self, N):\n",
    "        if self.shape() != N.shape():\n",
    "            raise ValueError(\"Matrix dimensions must match for subtraction.\")\n",
    "        return Matrix([[self.data[i][j] - N.data[i][j] for j in range(self.m)] for i in range(self.n)])\n",
    "\n",
    "    def mat_mult(self, N):\n",
    "        if self.m != N.n:\n",
    "            raise ValueError(\"Matrix multiplication dimension mismatch.\")\n",
    "        return Matrix([[sum(self.data[i][k] * N.data[k][j] for k in range(self.m)) for j in range(N.m)] for i in range(self.n)])\n",
    "\n",
    "    def element_mult(self, N):\n",
    "        if self.shape() != N.shape():\n",
    "            raise ValueError(\"Matrix dimensions must match for element-wise multiplication.\")\n",
    "        return Matrix([[self.data[i][j] * N.data[i][j] for j in range(self.m)] for i in range(self.n)])\n",
    "\n",
    "    def equals(self, N):\n",
    "        return self.data == N.to_list()\n",
    "\n",
    "    def __eq__(self, N):\n",
    "        return self.equals(N)\n",
    "\n",
    "    def __mul__(self, other):\n",
    "        if isinstance(other, (int, float)):\n",
    "            return self.scalarmul(other)\n",
    "        elif isinstance(other, Matrix):\n",
    "            return self.mat_mult(other)\n",
    "        else:\n",
    "            raise TypeError(\"Unsupported operand type for *: 'Matrix' and '{}'\".format(type(other).__name__))\n",
    "\n",
    "    def __rmul__(self, other):\n",
    "        return self * other\n",
    "\n",
    "    def __add__(self, other):\n",
    "        return self.add(other)\n",
    "\n",
    "    def __sub__(self, other):\n",
    "        return self.sub(other)\n",
    "\n",
    "    def __repr__(self):\n",
    "        return \"\\n\".join(str(row) for row in self.data)\n"
   ]
  },
  {
   "cell_type": "markdown",
   "metadata": {},
   "source": [
    "2. Add the following methods:\n",
    "    * `shape()`: returns a tuple `(n,m)` of the shape of the matrix.\n",
    "    * `transpose()`: returns a new matrix instance which is the transpose of the matrix.\n",
    "    * `row(n)` and `column(n)`: that return the nth row or column of the matrix M as a new appropriately shaped matrix object.\n",
    "    * `to_list()`: which returns the matrix as a list of lists.\n",
    "    *  `block(n_0,n_1,m_0,m_1)` that returns a smaller matrix located at the n_0 to n_1 columns and m_0 to m_1 rows. \n",
    "    * (Extra credit) Modify `__getitem__` implemented above to support slicing.\n",
    "        "
   ]
  },
  {
   "cell_type": "code",
   "execution_count": 41,
   "metadata": {},
   "outputs": [],
   "source": [
    "# Answer to 2: Matrix Methods\n",
    "def shape(self):\n",
    "    return self.n, self.m\n",
    "\n",
    "def transpose(self):\n",
    "    return Matrix([[self.data[j][i] for j in range(self.n)] for i in range(self.m)])\n",
    "\n",
    "def row(self, n):\n",
    "    return Matrix([self.data[n]])\n",
    "\n",
    "def column(self, n):\n",
    "    return Matrix([[self.data[i][n]] for i in range(self.n)])\n",
    "\n",
    "def to_list(self):\n",
    "    return self.data\n",
    "\n",
    "def block(self, n_0, n_1, m_0, m_1):\n",
    "    return Matrix([row[m_0:m_1] for row in self.data[n_0:n_1]])\n",
    "\n"
   ]
  },
  {
   "cell_type": "markdown",
   "metadata": {},
   "source": [
    "3. Write functions that create special matrices (note these are standalone functions, not member functions of your `matrix` class):\n",
    "    * `constant(n,m,c)`: returns a `n` by `m` matrix filled with floats of value `c`.\n",
    "    * `zeros(n,m)` and `ones(n,m)`: return `n` by `m` matrices filled with floats of value `0` and `1`, respectively.\n",
    "    * `eye(n)`: returns the n by n identity matrix."
   ]
  },
  {
   "cell_type": "code",
   "execution_count": 42,
   "metadata": {},
   "outputs": [],
   "source": [
    "def constant(n, m, c):\n",
    "    return Matrix([[c] * m for _ in range(n)])\n",
    "\n",
    "def zeros(n, m):\n",
    "    return constant(n, m, 0)\n",
    "\n",
    "def ones(n, m):\n",
    "    return constant(n, m, 1)\n",
    "\n",
    "def eye(n):\n",
    "    return Matrix([[1 if i == j else 0 for j in range(n)] for i in range(n)])\n"
   ]
  },
  {
   "cell_type": "markdown",
   "metadata": {},
   "source": [
    "4. Add the following member functions to your class. Make sure to appropriately test the dimensions of the matrices to make sure the operations are correct.\n",
    "    * `M.scalarmul(c)`: a matrix that is scalar product $cM$, where every element of $M$ is multiplied by $c$.\n",
    "    * `M.add(N)`: adds two matrices $M$ and $N$. Don’t forget to test that the sizes of the matrices are compatible for this and all other operations.\n",
    "    * `M.sub(N)`: subtracts two matrices $M$ and $N$.\n",
    "    * `M.mat_mult(N)`: returns a matrix that is the matrix product of two matrices $M$ and $N$.\n",
    "    * `M.element_mult(N)`: returns a matrix that is the element-wise product of two matrices $M$ and $N$.\n",
    "    * `M.equals(N)`: returns true/false if $M==N$."
   ]
  },
  {
   "cell_type": "code",
   "execution_count": 43,
   "metadata": {},
   "outputs": [],
   "source": [
    "def scalarmul(self, c):\n",
    "    return Matrix([[c * self.data[i][j] for j in range(self.m)] for i in range(self.n)])\n",
    "\n",
    "def add(self, N):\n",
    "    if self.shape() != N.shape():\n",
    "        raise ValueError(\"Matrix dimensions must match for addition.\")\n",
    "    return Matrix([[self.data[i][j] + N[i, j] for j in range(self.m)] for i in range(self.n)])\n",
    "\n",
    "def sub(self, N):\n",
    "    if self.shape() != N.shape():\n",
    "        raise ValueError(\"Matrix dimensions must match for subtraction.\")\n",
    "    return Matrix([[self.data[i][j] - N[i, j] for j in range(self.m)] for i in range(self.n)])\n",
    "\n",
    "def mat_mult(self, N):\n",
    "    if self.m != N.n:\n",
    "        raise ValueError(\"Matrix multiplication dimension mismatch.\")\n",
    "    return Matrix([[sum(self.data[i][k] * N[k, j] for k in range(self.m)) for j in range(N.m)] for i in range(self.n)])\n",
    "\n",
    "def element_mult(self, N):\n",
    "    if self.shape() != N.shape():\n",
    "        raise ValueError(\"Matrix dimensions must match for element-wise multiplication.\")\n",
    "    return Matrix([[self.data[i][j] * N[i, j] for j in range(self.m)] for i in range(self.n)])\n",
    "\n",
    "def equals(self, N):\n",
    "    return self.data == N.to_list()\n"
   ]
  },
  {
   "cell_type": "markdown",
   "metadata": {},
   "source": [
    "5. Overload python operators to appropriately use your functions in 4 and allow expressions like:\n",
    "    * 2*M\n",
    "    * M*2\n",
    "    * M+N\n",
    "    * M-N\n",
    "    * M*N\n",
    "    * M==N\n",
    "    * M=N\n"
   ]
  },
  {
   "cell_type": "code",
   "execution_count": 44,
   "metadata": {},
   "outputs": [],
   "source": [
    "\n",
    "def __eq__(self, N):\n",
    "    return self.equals(N)\n",
    "\n",
    "def __mul__(self, other):\n",
    "    if isinstance(other, (int, float)):\n",
    "        return self.scalarmul(other)\n",
    "    return self.mat_mult(other)\n",
    "\n",
    "def __rmul__(self, other):\n",
    "    return self * other\n",
    "\n",
    "def __add__(self, other):\n",
    "    return self.add(other)\n",
    "\n",
    "def __sub__(self, other):\n",
    "    return self.sub(other)\n",
    "\n",
    "def __repr__(self):\n",
    "    return \"\\n\".join(str(row) for row in self.data)\n"
   ]
  },
  {
   "cell_type": "markdown",
   "metadata": {},
   "source": [
    "6. Demonstrate the basic properties of matrices with your matrix class by creating two 2 by 2 example matrices using your Matrix class and illustrating the following:\n",
    "\n",
    "$$\n",
    "(AB)C=A(BC)\n",
    "$$\n",
    "$$\n",
    "A(B+C)=AB+AC\n",
    "$$\n",
    "$$\n",
    "AB\\neq BA\n",
    "$$\n",
    "$$\n",
    "AI=A\n",
    "$$"
   ]
  },
  {
   "cell_type": "code",
   "execution_count": 46,
   "metadata": {},
   "outputs": [
    {
     "name": "stdout",
     "output_type": "stream",
     "text": [
      "(AB)C = A(BC): True\n",
      "A(B + C) = AB + AC: True\n",
      "AB ≠ BA: True\n",
      "AI = A: True\n"
     ]
    }
   ],
   "source": [
    "# Answer to 6: Demonstrating basic properties\n",
    "A = Matrix([[1, 2], [3, 4]])\n",
    "B = Matrix([[5, 6], [7, 8]])\n",
    "C = Matrix([[2, 3], [4, 5]])\n",
    "I = eye(2)\n",
    "\n",
    "# (AB)C = A(BC)\n",
    "result_1 =( A * B) * C == A * (B * C)\n",
    "print(\"(AB)C = A(BC):\", result_1)\n",
    "\n",
    "# A(B + C) = AB + AC\n",
    "result_2 = A * (B + C) == (A * B) + (A * C)\n",
    "print(\"A(B + C) = AB + AC:\", result_2)\n",
    "\n",
    "# AB ≠ BA\n",
    "result_3 = A * B != B * A\n",
    "print(\"AB ≠ BA:\", result_3)\n",
    "\n",
    "# AI = A\n",
    "result_4 = A * I == A\n",
    "print(\"AI = A:\", result_4)\n"
   ]
  },
  {
   "cell_type": "code",
   "execution_count": 47,
   "metadata": {},
   "outputs": [
    {
     "name": "stdout",
     "output_type": "stream",
     "text": [
      "[('Clubs', 2), ('Clubs', 3), ('Clubs', 4), ('Clubs', 5), ('Clubs', 6), ('Clubs', 7), ('Clubs', 8), ('Clubs', 9), ('Clubs', 10), ('Clubs', 'Jack'), ('Clubs', 'Queen'), ('Clubs', 'King'), ('Clubs', 'Ace'), ('Diamonds', 2), ('Diamonds', 3), ('Diamonds', 4), ('Diamonds', 5), ('Diamonds', 6), ('Diamonds', 7), ('Diamonds', 8), ('Diamonds', 9), ('Diamonds', 10), ('Diamonds', 'Jack'), ('Diamonds', 'Queen'), ('Diamonds', 'King'), ('Diamonds', 'Ace'), ('Hearts', 2), ('Hearts', 3), ('Hearts', 4), ('Hearts', 5), ('Hearts', 6), ('Hearts', 7), ('Hearts', 8), ('Hearts', 9), ('Hearts', 10), ('Hearts', 'Jack'), ('Hearts', 'Queen'), ('Hearts', 'King'), ('Hearts', 'Ace'), ('Spades', 2), ('Spades', 3), ('Spades', 4), ('Spades', 5), ('Spades', 6), ('Spades', 7), ('Spades', 8), ('Spades', 9), ('Spades', 10), ('Spades', 'Jack'), ('Spades', 'Queen'), ('Spades', 'King'), ('Spades', 'Ace')]\n"
     ]
    }
   ],
   "source": [
    "#Write a function make_deck that returns a list of all of the cards in a standard card deck. \n",
    "#The return should be a list of tuples of pairs of suit and value. \n",
    "#For example the 10 of Clubs would be ('Clubs', 10) and Queen of Hearts would be ('Hearts', 'Queen'). Recall that a deck has 52 cards, divided into 4 suits (Clubs, Diamonds, Hearts, and Spades), and that each suit has 13 cards: 2 to 10, Jack, Queen, King, and Ace. \n",
    "\n",
    "\n",
    "\n",
    "\n",
    "def make_deck():\n",
    "    suits = [\"Clubs\", \"Diamonds\", \"Hearts\", \"Spades\"]\n",
    "    values = [2, 3, 4, 5, 6, 7, 8, 9, 10, \"Jack\", \"Queen\", \"King\", \"Ace\"]\n",
    "    return [(suit, value) for suit in suits for value in values]\n",
    "\n",
    "# Example usage\n",
    "deck = make_deck()\n",
    "print(deck)\n"
   ]
  }
 ],
 "metadata": {
  "kernelspec": {
   "display_name": "Python 3 (ipykernel)",
   "language": "python",
   "name": "python3"
  },
  "language_info": {
   "codemirror_mode": {
    "name": "ipython",
    "version": 3
   },
   "file_extension": ".py",
   "mimetype": "text/x-python",
   "name": "python",
   "nbconvert_exporter": "python",
   "pygments_lexer": "ipython3",
   "version": "3.11.5"
  }
 },
 "nbformat": 4,
 "nbformat_minor": 2
}
