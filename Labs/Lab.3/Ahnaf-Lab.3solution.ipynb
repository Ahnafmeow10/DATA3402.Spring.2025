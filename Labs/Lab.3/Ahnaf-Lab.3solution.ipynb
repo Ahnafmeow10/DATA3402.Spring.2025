{
 "cells": [
  {
   "cell_type": "markdown",
   "metadata": {},
   "source": [
    "# Lab 3\n",
    "\n",
    "In this lab we will become familiar with distributions, histograms, and functional programming. Do not use numpy or any other library for this lab.\n",
    "\n",
    "Before that, lets get setup homework submission and submit your previous lab.  \n",
    "\n",
    "## Working on the Command-line.\n",
    "\n",
    "It is important for you to learn to work on the command line and to be familiar with the Unix environment (e.g. Linux, Mac OS, or Windows Linux Subsystem). We'll go over working on the command-line in detail later in the course.\n",
    "\n",
    "You are required to submit your work in this course via GitHub. Today in class, you will setup everything on the command-line.\n",
    "\n",
    "### Command-line basics\n",
    "\n",
    "There is plenty of material online that will help you figure out how to do various tasks on the command line. Commands you may need to know today:\n",
    "\n",
    "* `ls`: lists the contents of the current directory.\n",
    "* `pwd`: prints the path of the current directory.\n",
    "* `cd <directory>`: changes your current directory to the specified directory.\n",
    "* `cd ..`: changes current directory to the previous directory. Basically steps out of the current directory to the directory containing the current directory.\n",
    "* `mkdir <directory>`: create a new directory with the specified name.\n",
    "* `rmdir <directory>`: removes the specified directory. Note it has to be empty.\n",
    "* `rm <filename>`: deletes the specified file.\n",
    "* `mv <filename 1> <filename 2>`: Moves or renames a file.\n",
    "* `cp <filename 1> <filename 2>`: copies an file. If you just provide a path to a directory, it copies the file into that directory with the same filename. If you specifiy a new filename, the copy has a new name. For example `cp File.1.txt File.2.txt` creates a copy of `File.1.txt` with the name `File.2.txt`. Meanwhile `cp File.1.txt my_directory`, where `my_directory` is a directory, creates a copy of `File.1.txt` in directory `my_directory` with the name `File.1.txt`.\n",
    "\n",
    "For reference, here are some example resources I found by googling:\n",
    "\n",
    "* Paths and Wildcards: https://www.warp.dev/terminus/linux-wildcards\n",
    "* Basic commands like copy: https://kb.iu.edu/d/afsk\n",
    "* General introduction to shell: https://github-pages.ucl.ac.uk/RCPSTrainingMaterials/HPCandHTCusingLegion/2_intro_to_shell.html\n",
    "* Manual pages: https://www.geeksforgeeks.org/linux-man-page-entries-different-types/?ref=ml_lbp\n",
    "* Chaining commands: https://www.geeksforgeeks.org/chaining-commands-in-linux/?ref=ml_lbp\n",
    "* Piping: https://www.geeksforgeeks.org/piping-in-unix-or-linux/\n",
    "* Using sed: https://www.geeksforgeeks.org/sed-command-linux-set-2/?ref=ml_lbp\n",
    "* Various Unix commands: https://www.geeksforgeeks.org/linux-commands/?ref=lbp\n",
    "* Cheat sheets:\n",
    "    * https://www.stationx.net/unix-commands-cheat-sheet/\n",
    "    * https://cheatography.com/davechild/cheat-sheets/linux-command-line/\n",
    "    * https://www.theknowledgeacademy.com/blog/unix-commands-cheat-sheet/\n",
    "    \n",
    "These aren't necessarily the best resources. Feel free to search for better ones. Also, don't forget that Unix has built-in manual pages for all of its commands. Just type `man <command>` at the command prompt. Use the space-bar to scroll through the documentation and \"q\" to exit.\n",
    "\n",
    "\n",
    "### Setup and Submission\n",
    "\n",
    "Our course repository is public. The instructions here aim to have you setup a fork of the course repository. Unfortunately because you are forking a public repo, your fork will have to be public also. \n",
    "\n",
    "You should be familiar with git from the first semester of this course. I assume that you all have github accounts and have setup things to be able to [push to github using ssh](https://docs.github.com/en/github/authenticating-to-github/connecting-to-github-with-ssh). The instuctions here lead you to:\n",
    "\n",
    "We'll overview what you will do before going through step by step instructions.\n",
    "\n",
    "1. Setup:\n",
    "    1. Fork the class repository. Some directions in [fork-a-repo](https://docs.github.com/en/github/getting-started-with-github/fork-a-repo).\n",
    "    1. Create a directory on your personal system where you will keep all course materials.\n",
    "    1. In that directory, clone your fork of the repository.\n",
    "    1. Using `git remote`, set the upstream to be the class repo, so you can pull from the class and push to your fork.\n",
    "\n",
    "1. Submission:\n",
    "    1. Copy your solutions into the appropriate directory (e.g. into `Labs/Lab.2/`) and with appropriate filename `Lab.2.solution.ipynb'.\n",
    "    1. Commit / push your solutions.\n",
    " \n",
    "Below are step by step instructions with examples (including example directory naming convention). Feel free to modify things as you see fit. \n",
    "\n",
    "#### Setup\n",
    "You should only need to follow this instructions once. Here are some useful git commands:\n",
    "\n",
    "* Git help: `git help`\n",
    "* Git remote help: `git help remote`\n",
    "* Check remote status: `git remote -v`\n",
    "* Add a remote: `git remote add <stream name> <repo URL>`\n",
    "* Add a remove: `git remote remove <stream name>`\n",
    "\n",
    "Steps:\n",
    "1. In a browser, log into GitHub and navigate to the [course repository](https://github.com/UTA-DataScience/DATA3402.Spring.2025).\n",
    "1. On the top right of the page, press the fork button to create a new fork into your own GitHub account.\n",
    "1. After successful fork, you should find the browser showing your fork of the course repository. Use the green \"Code\" button to copy path to the repo into your the clipboard of your computer.\n",
    "1. Open a shell on your personal computer.\n",
    "1. If you have not done so already, create a new directory/folder where you will keep all course material to navigate to it. For example: `mkdir Data-3402` and `cd Data-3402`.\n",
    "1. Clone your fork of the repository using `git clone` followed by the path you copied into your clipboard. (copy/paste)\n",
    "1. Paste the URL to your fork in the worksheet for the TAs and instructors.\n",
    "1. Now go into the directory of your clone (`cd DATA3402.Spring.2025`).\n",
    "1. Type `git remote -v` to see the current setup for fetch and pull.\n",
    "1. Note the URL you see. This should be the same as what you used for your clone for both push and fetch.\n",
    "1. Delete the origin remote using `git remote remove origin`.\n",
    "1. Add the course repo as your remote using `git remote add origin https://github.com/UTA-DataScience/DATA3402.Spring.2025.git`.\n",
    "1. Change the push to point to your fork. This means you will need the URL to your clone we copied earlier and confirmed as the original origin. The command will look something like: `git remote set-url --push origin  https://github.com/XXXXXX/DATA3402.Spring.2025.git`, where XXXXX is your username on GitHub.\n",
    "1. Note that if you setup everything correctly, you now should be able to do `git pull` to get updates from the course repo, and do `git push` to push your commits into your own fork.\n",
    "\n",
    "### Submission\n",
    "These instructions outline how you submit files. Some useful commands:\n",
    "* To add a file to local repository: `git add <file>`.\n",
    "* To commit all changed files into local repository: `git -a -m \"A message\"`. You need to provide some comment when you commit. \n",
    "* To push the commited files from the local repository to GitHub: `git push`.\n",
    "* To get updates from GitHub: `git pull`.\n",
    "\n",
    "Steps:\n",
    "1. To submit your labs, navigate to your clone of your fork of the course repository. \n",
    "1. Use `git pull` to make sure you have the latest updates. \n",
    "1. Make sure your copy of the lab your are working on is in the appropriate place in this clone. That means if you have the file elsewhere, copy it to the same directory in your clone of your fork. \n",
    "1. Note that in order to avoid future conflicts, you should always name your solution differently than the original file in the class repo. For example if your file is still named `Lab.2.ipynb` you should rename it using the `mv` command: `mv Lab.2.ipynb Lab.2.solution.ipynb`. \n",
    "1. Add and files you wish to submit into the repo. For example: `git add Labs/Lab.2/Lab.2.solution.ipynb`\n",
    "1. Commit any changes: `git commit -a -m \"Lab 2 updates\"`\n",
    "1. Push your changes: `git push`\n",
    "1. Check on github website that your solutions have been properly submitted.\n",
    "\n",
    "Before you leave the session today, make sure your GitHub Repo is setup. If you need to work further on your lab, navigate jupyter to the copy of the lab you just submitted and work there. Once done, repeat the commit and push commands to submit your updated solution. Note that lab 2 is due by midnight Friay 1/31/2025.\n"
   ]
  },
  {
   "cell_type": "markdown",
   "metadata": {},
   "source": [
    "### Uniform Distribution\n",
    "Lets start with generating some fake random data. You can get a random number between 0 and 1 using the python random module as follow:"
   ]
  },
  {
   "cell_type": "code",
   "execution_count": 1,
   "metadata": {},
   "outputs": [
    {
     "name": "stdout",
     "output_type": "stream",
     "text": [
      "The Value of x is 0.5241254499986856\n"
     ]
    }
   ],
   "source": [
    "import random\n",
    "x=random.random()\n",
    "print(\"The Value of x is\", x)"
   ]
  },
  {
   "cell_type": "markdown",
   "metadata": {},
   "source": [
    "Everytime you call random, you will get a new number.\n",
    "\n",
    "*Exercise 1:* Using random, write a function `generate_uniform(N, mymin, mymax)`, that returns a python list containing N random numbers between specified minimum and maximum value. Note that you may want to quickly work out on paper how to turn numbers between 0 and 1 to between other values. "
   ]
  },
  {
   "cell_type": "code",
   "execution_count": 2,
   "metadata": {},
   "outputs": [],
   "source": [
    "import random\n",
    "\n",
    "def generate_uniform(N, x_min, x_max):\n",
    "    out = []\n",
    "    for _ in range(N):\n",
    "        rand_num = random.random()\n",
    "        scaled_num = x_min + (x_max - x_min) * rand_num\n",
    "        out.append(scaled_num)\n",
    "    return out"
   ]
  },
  {
   "cell_type": "code",
   "execution_count": 3,
   "metadata": {},
   "outputs": [
    {
     "name": "stdout",
     "output_type": "stream",
     "text": [
      "Data Type: <class 'list'>\n",
      "Data Length: 1000\n",
      "Type of Data Contents: <class 'float'>\n",
      "Data Minimum: -9.939712094282164\n",
      "Data Maximum: 9.94744551305816\n"
     ]
    }
   ],
   "source": [
    "data = generate_uniform(1000, -10, 10)\n",
    "print(\"Data Type:\", type(data))\n",
    "print(\"Data Length:\", len(data))\n",
    "if len(data) > 0:\n",
    "    print(\"Type of Data Contents:\", type(data[0]))\n",
    "    print(\"Data Minimum:\", min(data))\n",
    "    print(\"Data Maximum:\", max(data))  "
   ]
  },
  {
   "cell_type": "markdown",
   "metadata": {},
   "source": [
    "*Exercise 2a:* \n",
    "Write a function that computes the mean of values in a list. Recall the equation for the mean of a random variable $\\bf{x}$ computed on a data set of $n$ values $\\{ x_i \\} = \\{x_1, x_2, ..., x_n\\}$  is ${\\bf\\bar{x}} = \\frac{1}{n} \\sum_i^n x_i$."
   ]
  },
  {
   "cell_type": "code",
   "execution_count": 4,
   "metadata": {},
   "outputs": [],
   "source": [
    "def compute_mean(values):\n",
    "    if len(values) == 0:\n",
    "        return 0  # Return 0 if the list is empty to avoid division by zero\n",
    "    total_sum = sum(values)  # Sum of all values in the list\n",
    "    n = len(values)  # Number of values in the list\n",
    "    mean = total_sum / n  # Calculate the mean\n",
    "    return mean\n"
   ]
  },
  {
   "cell_type": "code",
   "execution_count": 5,
   "metadata": {},
   "outputs": [
    {
     "name": "stdout",
     "output_type": "stream",
     "text": [
      "The mean is: 3.0\n"
     ]
    }
   ],
   "source": [
    "data = [1, 2, 3, 4, 5]\n",
    "mean_value = compute_mean(data)\n",
    "print(\"The mean is:\", mean_value)\n"
   ]
  },
  {
   "cell_type": "markdown",
   "metadata": {},
   "source": [
    "*Exercise 2b:* \n",
    "Write a function that computes the variance of values in a list. Recall the equation for the variance of a random variable $\\bf{x}$ computed on a data set of $n$ values $\\{ x_i \\} = \\{x_1, x_2, ..., x_n\\}$  is ${\\bf\\langle x \\rangle} = \\frac{1}{n-1} \\sum_i^n (x_i - {\\bf\\bar{x}})^2$."
   ]
  },
  {
   "cell_type": "code",
   "execution_count": 6,
   "metadata": {},
   "outputs": [],
   "source": [
    "def compute_mean(values):\n",
    "    if len(values) == 0:\n",
    "        return 0  # Return 0 if the list is empty to avoid division by zero\n",
    "    total_sum = sum(values)  # Sum of all values in the list\n",
    "    n = len(values)  # Number of values in the list\n",
    "    mean = total_sum / n  # Calculate the mean\n",
    "    return mean\n",
    "\n",
    "def compute_variance(values):\n",
    "    n = len(values)\n",
    "    if n <= 1:\n",
    "        return 0  \n",
    "    \n",
    "    mean = compute_mean(values)  # Reuse the mean function\n",
    "    squared_diff_sum = sum((x - mean) ** 2 for x in values)  # Sum of squared differences\n",
    "    variance = squared_diff_sum / (n - 1)\n",
    "    return variance\n",
    "\n",
    "\n"
   ]
  },
  {
   "cell_type": "code",
   "execution_count": 7,
   "metadata": {},
   "outputs": [
    {
     "name": "stdout",
     "output_type": "stream",
     "text": [
      "The variance is: 2.5\n"
     ]
    }
   ],
   "source": [
    "data = [1, 2, 3, 4, 5]\n",
    "variance_value = compute_variance(data)\n",
    "print(\"The variance is:\", variance_value)\n"
   ]
  },
  {
   "cell_type": "markdown",
   "metadata": {},
   "source": [
    "## Histogramming"
   ]
  },
  {
   "cell_type": "markdown",
   "metadata": {},
   "source": [
    "*Exercise 3:* Write a function that bins the data so that you can create a histogram. An example of how to implement histogramming is the following logic:\n",
    "\n",
    "* User inputs a list of values `x` and optionally `n_bins` which defaults to 10.\n",
    "* If not supplied, find the minimum and maximum (`x_min`,`x_max`) of the values in x.\n",
    "* Determine the bin size (`bin_size`) by dividing the range of the function by the number of bins.\n",
    "* Create an empty list of zeros of size `n_bins`, call it `hist`.\n",
    "* Loop over the values in `x`\n",
    "    * Loop over the values in `hist` with index `i`:\n",
    "        * If x is between `x_min+i*bin_size` and `x_min+(i+1)*bin_size`, increment `hist[i].` \n",
    "        * For efficiency, try to use continue to goto the next bin and data point.\n",
    "* Return `hist` and the list corresponding of the bin edges (i.e. of `x_min+i*bin_size`).    "
   ]
  },
  {
   "cell_type": "code",
   "execution_count": 8,
   "metadata": {},
   "outputs": [],
   "source": [
    "def compute_histogram(x, n_bins=10):\n",
    "    # Find the minimum and maximum values of x\n",
    "    x_min = min(x)\n",
    "    x_max = max(x)\n",
    "    \n",
    "    # Calculate the bin size based on the range and number of bins\n",
    "    bin_size = (x_max - x_min) / n_bins\n",
    "    \n",
    "    # Create an empty histogram list initialized to zeros\n",
    "    hist = [0] * n_bins\n",
    "    \n",
    "    # Loop over each value in x\n",
    "    for value in x:\n",
    "        # Loop over the bins\n",
    "        for i in range(n_bins):\n",
    "            # Check if the value is in the range of the current bin\n",
    "            if x_min + i * bin_size <= value < x_min + (i + 1) * bin_size:\n",
    "                hist[i] += 1\n",
    "                break  \n",
    "    \n",
    "    # Calculate the bin edges\n",
    "    bin_edges = [x_min + i * bin_size for i in range(n_bins + 1)]\n",
    "    \n",
    "    return hist, bin_edges\n",
    "\n",
    "\n"
   ]
  },
  {
   "cell_type": "code",
   "execution_count": 9,
   "metadata": {},
   "outputs": [
    {
     "name": "stdout",
     "output_type": "stream",
     "text": [
      "Histogram: [2, 2, 2, 2, 1]\n",
      "Bin edges: [1.0, 2.8, 4.6, 6.4, 8.2, 10.0]\n"
     ]
    }
   ],
   "source": [
    "data = [1, 2, 3, 4, 5, 6, 7, 8, 9, 10]\n",
    "histogram, bin_edges = compute_histogram(data, n_bins=5)\n",
    "print(\"Histogram:\", histogram)\n",
    "print(\"Bin edges:\", bin_edges)\n"
   ]
  },
  {
   "cell_type": "markdown",
   "metadata": {},
   "source": [
    "*Exercise 4:* Write a function that uses the histogram function in the previous exercise to create a text-based \"graph\". For example the output could look like the following:\n",
    "```\n",
    "[  0,  1] : ######\n",
    "[  1,  2] : #####\n",
    "[  2,  3] : ######\n",
    "[  3,  4] : ####\n",
    "[  4,  5] : ####\n",
    "[  5,  6] : ######\n",
    "[  6,  7] : #####\n",
    "[  7,  8] : ######\n",
    "[  8,  9] : ####\n",
    "[  9, 10] : #####\n",
    "```\n",
    "\n",
    "Where each line corresponds to a bin and the number of `#`'s are proportional to the value of the data in the bin. "
   ]
  },
  {
   "cell_type": "code",
   "execution_count": 10,
   "metadata": {},
   "outputs": [],
   "source": [
    "def compute_histogram(x, n_bins=10):\n",
    "    # Find the minimum and maximum values of x\n",
    "    x_min = min(x)\n",
    "    x_max = max(x)\n",
    "    \n",
    "    # Calculate the bin size based on the range and number of bins\n",
    "    bin_size = (x_max - x_min) / n_bins\n",
    "    \n",
    "    # Create an empty histogram list initialized to zeros\n",
    "    hist = [0] * n_bins\n",
    "    \n",
    "    # Loop over each value in x\n",
    "    for value in x:\n",
    "        # Loop over the bins\n",
    "        for i in range(n_bins):\n",
    "            # Check if the value is in the range of the current bin\n",
    "            if x_min + i * bin_size <= value < x_min + (i + 1) * bin_size:\n",
    "                hist[i] += 1\n",
    "                break  \n",
    "    \n",
    "    # Calculate the bin edges\n",
    "    bin_edges = [x_min + i * bin_size for i in range(n_bins + 1)]\n",
    "    \n",
    "    return hist, bin_edges\n",
    "\n",
    "def print_histogram_graph(hist, bin_edges):\n",
    "    max_count = max(hist)  # Find the highest bin count to scale the graph\n",
    "    \n",
    "    # Loop over each bin and its count in the histogram\n",
    "    for i in range(len(hist)):\n",
    "        # Create a string of '#' characters proportional to the bin count\n",
    "        num_hashes = (hist[i] * 50) // max_count  # Scale by 50 to limit the graph size\n",
    "        print(f\"[{bin_edges[i]:>3.1f}, {bin_edges[i+1]:>3.1f}] : {'#' * num_hashes}\")\n",
    "\n",
    "\n"
   ]
  },
  {
   "cell_type": "code",
   "execution_count": 11,
   "metadata": {},
   "outputs": [
    {
     "name": "stdout",
     "output_type": "stream",
     "text": [
      "[1.0, 2.8] : ##################################################\n",
      "[2.8, 4.6] : ##################################################\n",
      "[4.6, 6.4] : ##################################################\n",
      "[6.4, 8.2] : ##################################################\n",
      "[8.2, 10.0] : #########################\n"
     ]
    }
   ],
   "source": [
    "data = [1, 2, 3, 4, 5, 6, 7, 8, 9, 10]\n",
    "histogram, bin_edges = compute_histogram(data, n_bins=5)\n",
    "print_histogram_graph(histogram, bin_edges)\n"
   ]
  },
  {
   "cell_type": "markdown",
   "metadata": {},
   "source": [
    "## Functional Programming\n",
    "\n",
    "*Exercise 5:* Write a function the applies a booling function (that returns true/false) to every element in data, and return a list of indices of elements where the result was true. Use this function to find the indices of entries greater than 0.5. "
   ]
  },
  {
   "cell_type": "code",
   "execution_count": 12,
   "metadata": {},
   "outputs": [],
   "source": [
    "def find_indices(data, bool_func):\n",
    "    # Create a list of indices where the boolean function returns True\n",
    "    indices = [i for i, value in enumerate(data) if bool_func(value)]\n",
    "    return indices\n",
    "\n",
    "# Example boolean function to check if a value is greater than 0.5\n",
    "def greater_than_half(x):\n",
    "    return x > 0.5\n"
   ]
  },
  {
   "cell_type": "code",
   "execution_count": 13,
   "metadata": {},
   "outputs": [
    {
     "name": "stdout",
     "output_type": "stream",
     "text": [
      "Indices of elements greater than 0.5: [2, 3, 5]\n"
     ]
    }
   ],
   "source": [
    "data = [0.1, 0.5, 0.7, 0.9, 0.3, 0.8]\n",
    "indices = find_indices(data, greater_than_half)\n",
    "print(\"Indices of elements greater than 0.5:\", indices)\n"
   ]
  },
  {
   "cell_type": "markdown",
   "metadata": {},
   "source": [
    "*Exercise 6:* The `inrange(mymin,mymax)` function below returns a function that tests if it's input is between the specified values. Write corresponding functions that test:\n",
    "* Even\n",
    "* Odd\n",
    "* Greater than\n",
    "* Less than\n",
    "* Equal\n",
    "* Divisible by"
   ]
  },
  {
   "cell_type": "code",
   "execution_count": 14,
   "metadata": {},
   "outputs": [],
   "source": [
    "def inrange(mymin, mymax):\n",
    "    return lambda x: mymin <= x <= mymax\n",
    "\n",
    "def is_even():\n",
    "    return lambda x: x % 2 == 0\n",
    "\n",
    "# Function to test if a number is odd\n",
    "def is_odd():\n",
    "    return lambda x: x % 2 != 0\n",
    "\n",
    "# Function to test if a number is greater than a specified value\n",
    "def greater_than(value):\n",
    "    return lambda x: x > value\n",
    "\n",
    "# Function to test if a number is less than a specified value\n",
    "def less_than(value):\n",
    "    return lambda x: x < value\n",
    "\n",
    "# Function to test if a number is equal to a specified value\n",
    "def is_equal(value):\n",
    "    return lambda x: x == value\n",
    "\n",
    "# Function to test if a number is divisible by another number\n",
    "def divisible_by(divisor):\n",
    "    return lambda x: x % divisor == 0\n",
    "\n"
   ]
  },
  {
   "cell_type": "code",
   "execution_count": 15,
   "metadata": {},
   "outputs": [
    {
     "name": "stdout",
     "output_type": "stream",
     "text": [
      "True\n",
      "True\n",
      "True\n",
      "True\n",
      "True\n",
      "True\n"
     ]
    }
   ],
   "source": [
    "\n",
    "print(is_even()(4)) \n",
    "print(is_odd()(3))  \n",
    "print(greater_than(10)(15))  \n",
    "print(less_than(10)(5))     \n",
    "print(is_equal(7)(7))      \n",
    "print(divisible_by(5)(20))  \n"
   ]
  },
  {
   "cell_type": "markdown",
   "metadata": {},
   "source": [
    "*Exercise 7:* Repeat the previous exercise using `lambda` and the built-in python functions sum and map instead of your solution above. "
   ]
  },
  {
   "cell_type": "code",
   "execution_count": 16,
   "metadata": {},
   "outputs": [],
   "source": [
    "\n",
    "def inrange(mymin, mymax):\n",
    "    return lambda x: mymin <= x <= mymax\n",
    "\n",
    "# Function to test if a number is even\n",
    "is_even = lambda: lambda x: sum(map(lambda y: x % 2 == 0, [x])) > 0\n",
    "\n",
    "# Function to test if a number is odd\n",
    "is_odd = lambda: lambda x: sum(map(lambda y: x % 2 != 0, [x])) > 0\n",
    "\n",
    "# Function to test if a number is greater than a specified value\n",
    "greater_than = lambda value: lambda x: sum(map(lambda y: x > value, [x])) > 0\n",
    "\n",
    "# Function to test if a number is less than a specified value\n",
    "less_than = lambda value: lambda x: sum(map(lambda y: x < value, [x])) > 0\n",
    "\n",
    "# Function to test if a number is equal to a specified value\n",
    "is_equal = lambda value: lambda x: sum(map(lambda y: x == value, [x])) > 0\n",
    "\n",
    "# Function to test if a number is divisible by another number\n",
    "divisible_by = lambda divisor: lambda x: sum(map(lambda y: x % divisor == 0, [x])) > 0\n",
    "\n"
   ]
  },
  {
   "cell_type": "code",
   "execution_count": 17,
   "metadata": {},
   "outputs": [
    {
     "name": "stdout",
     "output_type": "stream",
     "text": [
      "True\n",
      "True\n",
      "True\n",
      "True\n",
      "True\n",
      "True\n"
     ]
    }
   ],
   "source": [
    "\n",
    "print(is_even()(4))       \n",
    "print(is_odd()(3))         \n",
    "print(greater_than(10)(15)) \n",
    "print(less_than(10)(5))    \n",
    "print(is_equal(7)(7))       \n",
    "print(divisible_by(5)(20)) "
   ]
  },
  {
   "cell_type": "markdown",
   "metadata": {},
   "source": [
    "## Monte Carlo\n",
    "\n",
    "*Exercise 7:* Write a \"generator\" function called `generate_function(func,x_min,x_max,N)`, that instead of generating a flat distribution, generates a distribution with functional form coded in `func`. Note that `func` will always be > 0.  \n",
    "\n",
    "Use the test function below and your histogramming functions above to demonstrate that your generator is working properly.\n",
    "\n",
    "Hint: A simple, but slow, solution is to a draw random number `test_x` within the specified range and another number `p` between the `min` and `max` of the function (which you will have to determine). If `p<=function(test_x)`, then place `test_x` on the output. If not, repeat the process, drawing two new numbers. Repeat until you have the specified number of generated numbers, `N`. For this problem, it's OK to determine the `min` and `max` by numerically sampling the function.  "
   ]
  },
  {
   "cell_type": "code",
   "execution_count": 18,
   "metadata": {},
   "outputs": [
    {
     "name": "stdout",
     "output_type": "stream",
     "text": [
      "Sample Mean: -0.0228\n",
      "Sample Variance: 1.0053\n"
     ]
    },
    {
     "data": {
      "image/png": "[encoded data removed]",
      "text/plain": [
       "<Figure size 640x480 with 1 Axes>"
      ]
     },
     "metadata": {},
     "output_type": "display_data"
    }
   ],
   "source": [
    "import random\n",
    "import matplotlib.pyplot as plt\n",
    "import numpy as np\n",
    "\n",
    "# Generator function for functional distribution\n",
    "def generate_function(func, x_min, x_max, N):\n",
    "    y_max = max(func(x) for x in np.linspace(x_min, x_max, 1000))\n",
    "    results = []\n",
    "    while len(results) < N:\n",
    "        test_x = random.uniform(x_min, x_max)\n",
    "        p = random.uniform(0, y_max)\n",
    "        if p <= func(test_x):\n",
    "            results.append(test_x)\n",
    "    return results\n",
    "\n",
    "# Test function (Gaussian-like shape)\n",
    "def test_func(x):\n",
    "    return np.exp(-x**2 / 2) / np.sqrt(2 * np.pi)\n",
    "\n",
    "# Histogram plotting function\n",
    "def plot_histogram(samples, bins=50):\n",
    "    plt.hist(samples, bins=bins, density=True, alpha=0.7, color='blue', label='Generated Distribution')\n",
    "    x = np.linspace(min(samples), max(samples), 1000)\n",
    "    plt.plot(x, test_func(x), 'r-', label='Test Function')\n",
    "    plt.xlabel('x')\n",
    "    plt.ylabel('Density')\n",
    "    plt.title('Generated Distribution vs Test Function')\n",
    "    plt.legend()\n",
    "    plt.grid(True)\n",
    "    plt.show()\n",
    "\n",
    "# Main execution\n",
    "if __name__ == \"__main__\":\n",
    "    samples = generate_function(test_func, -5, 5, 1000)\n",
    "    \n",
    "    sample_mean = np.mean(samples)\n",
    "    sample_variance = np.var(samples)\n",
    "    print(f\"Sample Mean: {sample_mean:.4f}\")\n",
    "    print(f\"Sample Variance: {sample_variance:.4f}\")\n",
    "    \n",
    "    plot_histogram(samples)\n",
    "\n",
    "\n"
   ]
  },
  {
   "cell_type": "markdown",
   "metadata": {},
   "source": [
    "*Exercise 8:* Use your function to generate 1000 numbers that are normal distributed, using the `gaussian` function below. Confirm the mean and variance of the data is close to the mean and variance you specify when building the Gaussian. Histogram the data. "
   ]
  },
  {
   "cell_type": "code",
   "execution_count": 19,
   "metadata": {},
   "outputs": [
    {
     "name": "stdout",
     "output_type": "stream",
     "text": [
      "Sample Mean: 0.0347\n",
      "Sample Variance: 0.9520\n"
     ]
    },
    {
     "data": {
      "image/png": "[encoded data removed]",
      "text/plain": [
       "<Figure size 640x480 with 1 Axes>"
      ]
     },
     "metadata": {},
     "output_type": "display_data"
    }
   ],
   "source": [
    "import random\n",
    "import matplotlib.pyplot as plt\n",
    "import numpy as np\n",
    "\n",
    "# Gaussian function with specified mean and variance\n",
    "def gaussian_func(x, mean, variance):\n",
    "    return np.exp(-((x - mean) ** 2) / (2 * variance)) / np.sqrt(2 * np.pi * variance)\n",
    "\n",
    "# Generator function for functional distribution\n",
    "def generate_function(func, x_min, x_max, N):\n",
    "    y_max = max(func(x) for x in np.linspace(x_min, x_max, 1000))\n",
    "    results = []\n",
    "    while len(results) < N:\n",
    "        test_x = random.uniform(x_min, x_max)\n",
    "        p = random.uniform(0, y_max)\n",
    "        if p <= func(test_x):\n",
    "            results.append(test_x)\n",
    "    return results\n",
    "\n",
    "# Histogram plotting function\n",
    "def plot_histogram(samples, bins=50):\n",
    "    plt.hist(samples, bins=bins, density=True, alpha=0.7, color='blue', label='Generated Distribution')\n",
    "    x = np.linspace(min(samples), max(samples), 1000)\n",
    "    plt.plot(x, gaussian_func(x, mean, variance), 'r-', label='Gaussian Function')\n",
    "    plt.xlabel('x')\n",
    "    plt.ylabel('Density')\n",
    "    plt.title('Generated Gaussian Distribution')\n",
    "    plt.legend()\n",
    "    plt.grid(True)\n",
    "    plt.show()\n",
    "\n",
    "# Main execution\n",
    "if __name__ == \"__main__\":\n",
    "    mean = 0\n",
    "    variance = 1\n",
    "    samples = generate_function(lambda x: gaussian_func(x, mean, variance), -5, 5, 1000)\n",
    "    \n",
    "    sample_mean = np.mean(samples)\n",
    "    sample_variance = np.var(samples)\n",
    "    print(f\"Sample Mean: {sample_mean:.4f}\")\n",
    "    print(f\"Sample Variance: {sample_variance:.4f}\")\n",
    "    \n",
    "    plot_histogram(samples)\n"
   ]
  },
  {
   "cell_type": "markdown",
   "metadata": {},
   "source": [
    "*Exercise 9:* Combine your `generate_function`, `where`, and `in_range` functions above to create an integrate function. Use your integrate function to show that approximately 68% of Normal distribution is within one variance."
   ]
  },
  {
   "cell_type": "code",
   "execution_count": 20,
   "metadata": {},
   "outputs": [
    {
     "name": "stdout",
     "output_type": "stream",
     "text": [
      "Approximate probability within one standard deviation: 0.6910\n"
     ]
    }
   ],
   "source": [
    "import random\n",
    "import matplotlib.pyplot as plt\n",
    "import numpy as np\n",
    "\n",
    "# Gaussian function\n",
    "def gaussian_func(x, mean, variance):\n",
    "    return np.exp(-((x - mean) ** 2) / (2 * variance)) / np.sqrt(2 * np.pi * variance)\n",
    "\n",
    "# Generator function for functional distribution\n",
    "def generate_function(func, x_min, x_max, N):\n",
    "    y_max = max(func(x) for x in np.linspace(x_min, x_max, 1000))\n",
    "    results = []\n",
    "    while len(results) < N:\n",
    "        test_x = random.uniform(x_min, x_max)\n",
    "        p = random.uniform(0, y_max)\n",
    "        if p <= func(test_x):\n",
    "            results.append(test_x)\n",
    "    return results\n",
    "\n",
    "# Function to filter values based on a condition\n",
    "def where(sequence, condition):\n",
    "    return [x for x in sequence if condition(x)]\n",
    "\n",
    "# Function to check if value is within range\n",
    "def in_range(x, low, high):\n",
    "    return low <= x <= high\n",
    "\n",
    "# Integration function\n",
    "def integrate(func, x_min, x_max, N, low, high):\n",
    "    samples = generate_function(func, x_min, x_max, N)\n",
    "    in_range_samples = where(samples, lambda x: in_range(x, low, high))\n",
    "    return len(in_range_samples) / N\n",
    "\n",
    "# Main execution\n",
    "if __name__ == \"__main__\":\n",
    "    mean = 0\n",
    "    variance = 1\n",
    "    N = 10000\n",
    "    probability = integrate(lambda x: gaussian_func(x, mean, variance), -5, 5, N, mean - 1, mean + 1)\n",
    "    print(f\"Approximate probability within one standard deviation: {probability:.4f}\")\n"
   ]
  }
 ],
 "metadata": {
  "kernelspec": {
   "display_name": "Python 3 (ipykernel)",
   "language": "python",
   "name": "python3"
  },
  "language_info": {
   "codemirror_mode": {
    "name": "ipython",
    "version": 3
   },
   "file_extension": ".py",
   "mimetype": "text/x-python",
   "name": "python",
   "nbconvert_exporter": "python",
   "pygments_lexer": "ipython3",
   "version": "3.11.5"
  }
 },
 "nbformat": 4,
 "nbformat_minor": 2
}
